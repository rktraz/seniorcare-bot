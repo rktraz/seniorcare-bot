{
 "cells": [
  {
   "cell_type": "code",
   "execution_count": 20,
   "id": "e46085cc",
   "metadata": {},
   "outputs": [
    {
     "name": "stdout",
     "output_type": "stream",
     "text": [
      "Started...\n",
      "Processing data/oleksii_face_1.mov...\n",
      "\n",
      "Ended!\n"
     ]
    }
   ],
   "source": [
    "import cv2\n",
    "import os\n",
    "\n",
    "\n",
    "video_name = \"data/oleksii_face_1.mov\"\n",
    "# Create the directory if it doesn't exist\n",
    "output_directory = video_name.split(\".\")[0]\n",
    "if not os.path.exists(output_directory):\n",
    "    os.makedirs(output_directory)\n",
    "\n",
    "cam = cv2.VideoCapture(video_name)\n",
    "currentframe = 0\n",
    "\n",
    "# Set the frame skip interval (e.g., capture every n'th frame)\n",
    "frame_skip_interval = 8\n",
    "\n",
    "print(\"Started...\")\n",
    "print(f\"Processing {video_name}...\")\n",
    "while True:\n",
    "    ret, frame = cam.read()\n",
    "    if ret:\n",
    "        if currentframe % frame_skip_interval == 0:\n",
    "            name = os.path.join(output_directory, 'Frame(' + str(currentframe) + ').jpg')\n",
    "            cv2.imwrite(name, frame)\n",
    "        currentframe += 1\n",
    "    else:\n",
    "        break\n",
    "\n",
    "print()\n",
    "print(\"Ended!\")\n",
    "\n",
    "cam.release()\n",
    "cv2.destroyAllWindows()\n"
   ]
  },
  {
   "cell_type": "code",
   "execution_count": null,
   "id": "ecfc7241-3383-46ab-9eca-d8d6ee9f69ab",
   "metadata": {},
   "outputs": [],
   "source": []
  }
 ],
 "metadata": {
  "kernelspec": {
   "display_name": "Python 3 (ipykernel)",
   "language": "python",
   "name": "python3"
  },
  "language_info": {
   "codemirror_mode": {
    "name": "ipython",
    "version": 3
   },
   "file_extension": ".py",
   "mimetype": "text/x-python",
   "name": "python",
   "nbconvert_exporter": "python",
   "pygments_lexer": "ipython3",
   "version": "3.11.3"
  }
 },
 "nbformat": 4,
 "nbformat_minor": 5
}
