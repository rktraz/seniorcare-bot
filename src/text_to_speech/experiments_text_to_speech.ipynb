{
 "cells": [
  {
   "cell_type": "code",
   "execution_count": 1,
   "id": "a7755db2-a6ff-418a-bcec-c02ad584a347",
   "metadata": {},
   "outputs": [],
   "source": [
    "# !pip install pydub\n",
    "# !pip install azure-cognitiveservices-speech\n",
    "# !pip install python-dotenv"
   ]
  },
  {
   "cell_type": "code",
   "execution_count": 2,
   "id": "229b2984-fc24-4df4-8f97-4c4a978295ed",
   "metadata": {},
   "outputs": [
    {
     "data": {
      "text/plain": [
       "True"
      ]
     },
     "execution_count": 2,
     "metadata": {},
     "output_type": "execute_result"
    }
   ],
   "source": [
    "from dotenv import load_dotenv\n",
    "\n",
    "load_dotenv() # import .env variables (API keys)"
   ]
  },
  {
   "cell_type": "code",
   "execution_count": 3,
   "id": "eca598c6-40d4-4746-9d75-65f6769040ad",
   "metadata": {},
   "outputs": [],
   "source": [
    "from functions import *"
   ]
  },
  {
   "cell_type": "code",
   "execution_count": 4,
   "id": "4c03a2cf-cd36-4b83-a75b-53d995e38be7",
   "metadata": {},
   "outputs": [
    {
     "name": "stderr",
     "output_type": "stream",
     "text": [
      "/Users/rktraz/anaconda3/envs/ml/lib/python3.11/site-packages/pydub/utils.py:170: RuntimeWarning: Couldn't find ffmpeg or avconv - defaulting to ffmpeg, but may not work\n",
      "  warn(\"Couldn't find ffmpeg or avconv - defaulting to ffmpeg, but may not work\", RuntimeWarning)\n"
     ]
    }
   ],
   "source": [
    "from pydub import AudioSegment\n",
    "import requests\n",
    "import json\n",
    "import os\n",
    "import base64\n",
    "\n",
    "import azure.cognitiveservices.speech as speechsdk\n",
    "\n",
    "subscription_key = os.getenv('SUBSCRIPTION_KEY')\n",
    "service_region = os.getenv('SERVICE_REGION')\n",
    "\n",
    "speech_config = speechsdk.SpeechConfig(subscription=subscription_key, region=service_region)\n",
    "speech_synthesizer = speechsdk.SpeechSynthesizer(speech_config=speech_config, audio_config=None)"
   ]
  },
  {
   "cell_type": "markdown",
   "id": "de915bf5-64e2-4d58-a3b3-ec964aab03d3",
   "metadata": {},
   "source": [
    "### I use SSML files to configure the voice actor, speaking style, some properties of speech like rate, pitch, etc.\n",
    "\n",
    "### I store selected configurations in txt files inside `ssml_files` folder"
   ]
  },
  {
   "cell_type": "code",
   "execution_count": 13,
   "id": "0cf28244-c16e-404e-838e-b924f4165389",
   "metadata": {},
   "outputs": [],
   "source": [
    "base_folder = \"ssml_files\" # here I store tuned voice configurations. they are called SSML files\n",
    "voice_configurations = generate_voice_configurations(base_folder)"
   ]
  },
  {
   "cell_type": "code",
   "execution_count": 14,
   "id": "6817102c-42c5-474f-93fc-6bbe01aed26e",
   "metadata": {},
   "outputs": [],
   "source": [
    "text_prompt = \"\"\"Hello Mr. Johnson! I hope you're having a good day.\n",
    "Before we talk about how you're feeling, I wanted to remind you about your medication schedule.\n",
    "It's important to take your prescribed medications as per the schedule to help manage\n",
    "your back discomfort and ensure your overall well-being. Have you taken your morning medications today?\"\"\""
   ]
  },
  {
   "cell_type": "code",
   "execution_count": 32,
   "id": "3616dae8-fd53-4c29-b359-3a16dd1a7d33",
   "metadata": {},
   "outputs": [],
   "source": [
    "text_prompt = \"\"\"Good morning! I'm Sam, your conversational AI assistant. It's wonderful to meet you. \n",
    "\n",
    "How are you doing today?\n",
    "I should mention, if you have any medications to take this morning, now's a good time to take them. Always important to stay on top of our health, right?\n",
    "Feel free to let me know if there's anything specific you'd like to chat about or if you need assistance with scheduling appointments or adjusting room settings. I'm here to make your day a bit easier and a lot brighter!\n",
    "\"\"\""
   ]
  },
  {
   "cell_type": "code",
   "execution_count": 33,
   "id": "362c35cf-3201-40a2-92d6-9327afa7b19f",
   "metadata": {},
   "outputs": [
    {
     "data": {
      "text/plain": [
       "{'fr': {'SylvieNeural': PosixPath('ssml_files/fr/sylvie.txt')},\n",
       " 'en': {'JennyMultilingualNeural': PosixPath('ssml_files/en/jenny_multilingual.txt'),\n",
       "  'AriaNeural': PosixPath('ssml_files/en/aria_friendly.txt'),\n",
       "  'GuyNeural': PosixPath('ssml_files/en/guy_newscast.txt'),\n",
       "  'SaraNeural': PosixPath('ssml_files/en/sara_friendly.txt'),\n",
       "  'JennyNeural': PosixPath('ssml_files/en/jenny_friendly.txt')}}"
      ]
     },
     "execution_count": 33,
     "metadata": {},
     "output_type": "execute_result"
    }
   ],
   "source": [
    "voice_configurations"
   ]
  },
  {
   "cell_type": "code",
   "execution_count": 43,
   "id": "79619b81-e26a-48a7-978b-32d05fd0a6d1",
   "metadata": {},
   "outputs": [],
   "source": [
    "SELECTED_VOICE = \"Jenny\" # choose voice configuration (SSML file, basically)\n",
    "\n",
    "SELECTED_VOICE += \"Neural\" # I separated it so it would be more convenient to choose voice (above)"
   ]
  },
  {
   "cell_type": "code",
   "execution_count": 44,
   "id": "d63297a7-9c5e-45ca-8ba5-eabee44beeed",
   "metadata": {},
   "outputs": [],
   "source": [
    "ssml_string = voice_configurations[\"en\"][SELECTED_VOICE].read_text()"
   ]
  },
  {
   "cell_type": "code",
   "execution_count": 45,
   "id": "e7ba8239-ccfe-4d61-9f1d-e74badeb23ee",
   "metadata": {},
   "outputs": [],
   "source": [
    "ssml_string_modified = modify_ssml(ssml_string, text_prompt)"
   ]
  },
  {
   "cell_type": "code",
   "execution_count": 46,
   "id": "e4fba559-729e-4362-9c9d-685606499f57",
   "metadata": {},
   "outputs": [],
   "source": [
    "# Specify the output audio configuration\n",
    "AUDIO_FILENAME = \"generated_speech.wav\" # do we want to replace it each time?\n",
    "audio_config = speechsdk.audio.AudioOutputConfig(filename=AUDIO_FILENAME) # save file locally after generation\n",
    "\n",
    "# Create the speech synthesizer with the speech config and audio config\n",
    "speech_synthesizer = speechsdk.SpeechSynthesizer(speech_config=speech_config, audio_config=audio_config)\n",
    "\n",
    "result = speech_synthesizer.speak_ssml(ssml_string_modified) # audio file is generated and saved locally"
   ]
  },
  {
   "cell_type": "code",
   "execution_count": null,
   "id": "2826f7f7-0d4a-491c-a302-9d27c988500c",
   "metadata": {},
   "outputs": [],
   "source": [
    "# !pip install playsound"
   ]
  },
  {
   "cell_type": "markdown",
   "id": "3edce651-386e-43ca-b19c-54031bceb987",
   "metadata": {},
   "source": [
    "### workaround; I am not sure how to play this audio file in the most convenient way."
   ]
  },
  {
   "cell_type": "code",
   "execution_count": null,
   "id": "9231d687-ed4b-4500-9bd0-adb4c16cbcec",
   "metadata": {},
   "outputs": [
    {
     "name": "stdout",
     "output_type": "stream",
     "text": [
      "Playing resulting audio.\n"
     ]
    }
   ],
   "source": [
    "# # import required module\n",
    "# from playsound import playsound\n",
    " \n",
    "# # for playing output_file\n",
    "# playsound(AUDIO_FILENAME)\n",
    "# print('Playing resulting audio.')"
   ]
  },
  {
   "cell_type": "code",
   "execution_count": null,
   "id": "9d00185b-ec8f-43da-be44-fc7bc3e3d956",
   "metadata": {},
   "outputs": [],
   "source": [
    "# audio_data = base64.b64encode(result.audio_data).decode('utf-8')"
   ]
  }
 ],
 "metadata": {
  "kernelspec": {
   "display_name": "Python 3 (ipykernel)",
   "language": "python",
   "name": "python3"
  },
  "language_info": {
   "codemirror_mode": {
    "name": "ipython",
    "version": 3
   },
   "file_extension": ".py",
   "mimetype": "text/x-python",
   "name": "python",
   "nbconvert_exporter": "python",
   "pygments_lexer": "ipython3",
   "version": "3.11.3"
  }
 },
 "nbformat": 4,
 "nbformat_minor": 5
}
